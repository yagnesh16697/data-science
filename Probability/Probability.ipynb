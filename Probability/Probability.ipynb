{
 "cells": [
  {
   "cell_type": "markdown",
   "metadata": {},
   "source": [
    "### CoinTossSequence\n"
   ]
  },
  {
   "cell_type": "code",
   "execution_count": 5,
   "metadata": {},
   "outputs": [],
   "source": [
    "import random\n",
    "import numpy as np\n",
    "import matplotlib.pyplot as plt\n",
    "from matplotlib.animation import ArtistAnimation\n"
   ]
  },
  {
   "cell_type": "code",
   "execution_count": 6,
   "metadata": {},
   "outputs": [],
   "source": [
    "class CoinTossSequence:\n",
    "    def __init__(self, p_h=0., num_tosses=100):\n",
    "        self.p_h = p_h\n",
    "        self.num_tosses = num_tosses\n",
    "        self.animate_coin_toss_sequence()\n",
    "\n",
    "    def toss_coin(self):\n",
    "        pass\n",
    "\n",
    "    def animate_coin_toss_sequence(self):\n",
    "        pass\n",
    "\n",
    "\n",
    "if __name__ == \"__main__\":\n",
    "    coin  = CoinTossSequence()\n"
   ]
  },
  {
   "cell_type": "code",
   "execution_count": null,
   "metadata": {},
   "outputs": [],
   "source": []
  }
 ],
 "metadata": {
  "kernelspec": {
   "display_name": "Python 3.10.4 64-bit",
   "language": "python",
   "name": "python3"
  },
  "language_info": {
   "codemirror_mode": {
    "name": "ipython",
    "version": 3
   },
   "file_extension": ".py",
   "mimetype": "text/x-python",
   "name": "python",
   "nbconvert_exporter": "python",
   "pygments_lexer": "ipython3",
   "version": "3.10.4"
  },
  "orig_nbformat": 4,
  "vscode": {
   "interpreter": {
    "hash": "93a9d6b824d233c7b2090ede8dff5cd68a397e451265a40d0d59f9aec7b0e308"
   }
  }
 },
 "nbformat": 4,
 "nbformat_minor": 2
}
