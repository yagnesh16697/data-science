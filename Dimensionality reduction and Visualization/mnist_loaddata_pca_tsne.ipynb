{
 "cells": [
  {
   "cell_type": "markdown",
   "metadata": {},
   "source": [
    "Load MNIST Data"
   ]
  },
  {
   "cell_type": "code",
   "execution_count": 3,
   "metadata": {},
   "outputs": [
    {
     "name": "stdout",
     "output_type": "stream",
     "text": [
      "(42000, 784)\n",
      "(42000,)\n"
     ]
    }
   ],
   "source": [
    "import numpy as np\n",
    "import pandas as pd\n",
    "import matplotlib.pyplot as plt\n",
    "\n",
    "d0 = pd.read_csv('./mnist_train.csv')\n",
    "\n",
    "# print(d0.head(5))\n",
    "\n",
    "l = d0['label']\n",
    "\n",
    "d = d0.drop(\"label\", axis = 1)\n",
    "\n",
    "print(d.shape)\n",
    "print(l.shape)"
   ]
  },
  {
   "cell_type": "code",
   "execution_count": 11,
   "metadata": {},
   "outputs": [
    {
     "data": {
      "image/png": "[encoded data removed]",
      "text/plain": [
       "<Figure size 400x400 with 1 Axes>"
      ]
     },
     "metadata": {},
     "output_type": "display_data"
    },
    {
     "name": "stdout",
     "output_type": "stream",
     "text": [
      "1\n"
     ]
    }
   ],
   "source": [
    "plt.figure(figsize=(4,4))\n",
    "idx = 68\n",
    "\n",
    "grid_data = d.iloc[idx].to_numpy().reshape(28,28) \n",
    "plt.imshow(grid_data, interpolation= \"none\", cmap= \"gray\")\n",
    "plt.show()\n",
    "\n",
    "\n",
    "print(l[idx])\n"
   ]
  }
 ],
 "metadata": {
  "kernelspec": {
   "display_name": "Python 3.10.4 64-bit",
   "language": "python",
   "name": "python3"
  },
  "language_info": {
   "codemirror_mode": {
    "name": "ipython",
    "version": 3
   },
   "file_extension": ".py",
   "mimetype": "text/x-python",
   "name": "python",
   "nbconvert_exporter": "python",
   "pygments_lexer": "ipython3",
   "version": "3.10.4"
  },
  "orig_nbformat": 4,
  "vscode": {
   "interpreter": {
    "hash": "93a9d6b824d233c7b2090ede8dff5cd68a397e451265a40d0d59f9aec7b0e308"
   }
  }
 },
 "nbformat": 4,
 "nbformat_minor": 2
}
